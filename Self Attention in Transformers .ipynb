{
 "cells": [
  {
   "cell_type": "code",
   "execution_count": null,
   "id": "4ae588df",
   "metadata": {},
   "outputs": [],
   "source": [
    "# Generate data "
   ]
  },
  {
   "cell_type": "code",
   "execution_count": 1,
   "id": "136b82f2",
   "metadata": {},
   "outputs": [],
   "source": [
    "import numpy as np\n",
    "import pandas as pd"
   ]
  },
  {
   "cell_type": "code",
   "execution_count": 3,
   "id": "75ea2cc4",
   "metadata": {},
   "outputs": [],
   "source": [
    "L,d_k,d_v = 4,8,8\n",
    "q = np.random.randn(L,d_k)\n",
    "k = np.random.randn(L,d_k)\n",
    "v = np.random.randn(L,d_v)"
   ]
  },
  {
   "cell_type": "code",
   "execution_count": 4,
   "id": "cc266950",
   "metadata": {},
   "outputs": [
    {
     "name": "stdout",
     "output_type": "stream",
     "text": [
      "Q\n",
      " [[-0.39016285 -1.45648506 -0.10617135 -0.98457274  1.6738831   1.07350769\n",
      "  -1.03147667 -0.11664946]\n",
      " [-0.17982566  1.75143779  0.64756942 -0.33038926  0.51544228  0.29809899\n",
      "  -0.52121047  2.49908179]\n",
      " [-1.18742707  1.22939348 -0.66472464  0.45360553 -1.71247761  0.63233327\n",
      "  -0.01841373 -0.37131662]\n",
      " [-0.06930907 -1.8360792  -0.07275667  0.10454298  0.82059221  0.35010735\n",
      "   0.27260064  0.87186854]]\n",
      "K\n",
      " [[ 0.52263157 -0.32144937 -0.77657191  0.46122232  2.19498537  0.86811147\n",
      "  -0.56536356 -2.47310449]\n",
      " [-0.1738152  -0.02770686 -1.94517592 -0.92254518  0.13092052 -0.77349685\n",
      "  -0.53359773  1.62536351]\n",
      " [-0.65811429 -0.97566369 -0.59000385  0.53210294 -0.99547651  0.07922379\n",
      "   0.21295433  0.5478917 ]\n",
      " [ 0.7739937  -0.97836579 -1.27620424  1.20481853 -1.07059201  0.74941952\n",
      "   0.41950362 -0.56895926]]\n",
      "V\n",
      " [[ 1.55121153  0.14766504  0.73439362  1.4901071   0.1279855  -0.02437641\n",
      "  -0.47969517  1.04089687]\n",
      " [ 1.65878989  1.02413962 -0.22289342 -1.50092747  1.1603318  -0.76421869\n",
      "   0.24278976  0.41465309]\n",
      " [-0.061689    0.95320971  1.81487211 -0.18669714 -0.48845591 -0.39192771\n",
      "  -0.51814771  0.95483967]\n",
      " [-1.92344641 -0.85714162  0.11966009  0.51215112 -0.23790885 -1.26641139\n",
      "   0.6932548   1.59893922]]\n"
     ]
    }
   ],
   "source": [
    "print(\"Q\\n\", q)\n",
    "print(\"K\\n\", k)\n",
    "print(\"V\\n\", v)"
   ]
  },
  {
   "cell_type": "code",
   "execution_count": 5,
   "id": "113b5b1f",
   "metadata": {},
   "outputs": [],
   "source": [
    "# Self Attention: Softmax "
   ]
  },
  {
   "cell_type": "code",
   "execution_count": 6,
   "id": "526a75c4",
   "metadata": {},
   "outputs": [
    {
     "data": {
      "text/plain": [
       "array([[ 5.37033643,  0.97259233, -0.64827387, -1.28162127],\n",
       "       [-5.80789384,  3.20482859, -1.37959999, -5.04617328],\n",
       "       [-2.57156744, -0.26014018,  1.76300756,  1.7837663 ],\n",
       "       [ 0.45348138,  1.21626751,  1.68216103,  0.96367708]])"
      ]
     },
     "execution_count": 6,
     "metadata": {},
     "output_type": "execute_result"
    }
   ],
   "source": [
    "np.matmul(q,k.T)"
   ]
  },
  {
   "cell_type": "code",
   "execution_count": 8,
   "id": "7c99a6b2",
   "metadata": {},
   "outputs": [
    {
     "data": {
      "text/plain": [
       "(0.9595193273778149, 0.9603671051277238, 7.601385270379698)"
      ]
     },
     "execution_count": 8,
     "metadata": {},
     "output_type": "execute_result"
    }
   ],
   "source": [
    "q.var(),k.var(),np.matmul(q,k.T).var()"
   ]
  },
  {
   "cell_type": "code",
   "execution_count": 11,
   "id": "8421d724",
   "metadata": {},
   "outputs": [
    {
     "data": {
      "text/plain": [
       "(0.9595193273778149, 0.9603671051277238, 0.950173158797462)"
      ]
     },
     "execution_count": 11,
     "metadata": {},
     "output_type": "execute_result"
    }
   ],
   "source": [
    "import math\n",
    "scaled = np.matmul(q,k.T)/math.sqrt(d_k)\n",
    "q.var(),k.var(),scaled.var()"
   ]
  },
  {
   "cell_type": "code",
   "execution_count": 12,
   "id": "d1563aae",
   "metadata": {},
   "outputs": [
    {
     "data": {
      "text/plain": [
       "array([[ 1.89870066,  0.34386332, -0.22919942, -0.45312155],\n",
       "       [-2.05340056,  1.13307801, -0.48776225, -1.78409167],\n",
       "       [-0.90918639, -0.09197344,  0.6233173 ,  0.63065662],\n",
       "       [ 0.16032988,  0.4300155 ,  0.59473374,  0.3407113 ]])"
      ]
     },
     "execution_count": 12,
     "metadata": {},
     "output_type": "execute_result"
    }
   ],
   "source": [
    "scaled"
   ]
  },
  {
   "cell_type": "code",
   "execution_count": 14,
   "id": "883c85e2",
   "metadata": {},
   "outputs": [
    {
     "data": {
      "text/plain": [
       "array([[1., 0., 0., 0.],\n",
       "       [1., 1., 0., 0.],\n",
       "       [1., 1., 1., 0.],\n",
       "       [1., 1., 1., 1.]])"
      ]
     },
     "execution_count": 14,
     "metadata": {},
     "output_type": "execute_result"
    }
   ],
   "source": [
    "# Masking\n",
    "mask = np.tril(np.ones((L,L)))\n",
    "mask"
   ]
  },
  {
   "cell_type": "code",
   "execution_count": null,
   "id": "0175a936",
   "metadata": {},
   "outputs": [],
   "source": []
  }
 ],
 "metadata": {
  "kernelspec": {
   "display_name": "Python 3 (ipykernel)",
   "language": "python",
   "name": "python3"
  },
  "language_info": {
   "codemirror_mode": {
    "name": "ipython",
    "version": 3
   },
   "file_extension": ".py",
   "mimetype": "text/x-python",
   "name": "python",
   "nbconvert_exporter": "python",
   "pygments_lexer": "ipython3",
   "version": "3.9.13"
  }
 },
 "nbformat": 4,
 "nbformat_minor": 5
}
